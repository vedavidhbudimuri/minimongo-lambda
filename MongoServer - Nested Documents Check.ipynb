{
 "cells": [
  {
   "cell_type": "code",
   "execution_count": 3,
   "id": "flush-absence",
   "metadata": {},
   "outputs": [],
   "source": [
    "import requests\n",
    "import json"
   ]
  },
  {
   "cell_type": "code",
   "execution_count": 10,
   "id": "seven-statement",
   "metadata": {},
   "outputs": [],
   "source": [
    "setupData = {\n",
    "            \"animals\": [\n",
    "                {\n",
    "                    \"name\": \"snoopy\",\n",
    "                    \"breed\": \"pug\"\n",
    "                },\n",
    "                {\n",
    "                    \"name\": \"robin\",\n",
    "                    \"breed\": \"pug\"\n",
    "                }\n",
    "            ],\n",
    "            \"inventory\": [\n",
    "                {\"item\": \"journal\",\n",
    "                 \"qty\": 25,\n",
    "                 \"size\": {\"h\": 14, \"w\": 21, \"uom\": \"cm\"},\n",
    "                 \"status\": \"A\"\n",
    "                },\n",
    "                {\"item\": \"notebook\",\n",
    "                 \"qty\": 50,\n",
    "                 \"size\": {\"h\": 8.5, \"w\": 11, \"uom\": \"in\"},\n",
    "                 \"status\": \"A\"},\n",
    "                {\"item\": \"paper\",\n",
    "                 \"qty\": 100,\n",
    "                 \"size\": {\"h\": 8.5, \"w\": 11, \"uom\": \"in\"},\n",
    "                 \"status\": \"D\"},\n",
    "                {\"item\": \"planner\",\n",
    "                 \"qty\": 75,\n",
    "                 \"size\": {\"h\": 22.85, \"w\": 30, \"uom\": \"cm\"},\n",
    "                 \"status\": \"D\"},\n",
    "                {\"item\": \"postcard\",\n",
    "                 \"qty\": 45,\n",
    "                 \"size\": {\"h\": 10, \"w\": 15.25, \"uom\": \"cm\"},\n",
    "                 \"status\": \"A\"}\n",
    "            ]\n",
    "}"
   ]
  },
  {
   "cell_type": "code",
   "execution_count": 11,
   "id": "reliable-economy",
   "metadata": {},
   "outputs": [
    {
     "data": {
      "text/plain": [
       "{'data': [{'item': 'journal',\n",
       "   'qty': 25,\n",
       "   'size': {'h': 14, 'w': 21, 'uom': 'cm'},\n",
       "   'status': 'A',\n",
       "   '_id': 'ce8e2f0d53104c98b63b57c2d3150847'},\n",
       "  {'item': 'notebook',\n",
       "   'qty': 50,\n",
       "   'size': {'h': 8.5, 'w': 11, 'uom': 'in'},\n",
       "   'status': 'A',\n",
       "   '_id': '959e02f500d24a0baaf94b4eadbe6542'},\n",
       "  {'item': 'paper',\n",
       "   'qty': 100,\n",
       "   'size': {'h': 8.5, 'w': 11, 'uom': 'in'},\n",
       "   'status': 'D',\n",
       "   '_id': 'f312857164124a60a61917389858ae67'},\n",
       "  {'item': 'planner',\n",
       "   'qty': 75,\n",
       "   'size': {'h': 22.85, 'w': 30, 'uom': 'cm'},\n",
       "   'status': 'D',\n",
       "   '_id': '713922ac07404a9b9249be5207e8d176'},\n",
       "  {'item': 'postcard',\n",
       "   'qty': 45,\n",
       "   'size': {'h': 10, 'w': 15.25, 'uom': 'cm'},\n",
       "   'status': 'A',\n",
       "   '_id': 'd1180771cecc4ba3839be00f71c010dc'}]}"
      ]
     },
     "execution_count": 11,
     "metadata": {},
     "output_type": "execute_result"
    }
   ],
   "source": [
    "response = requests.post(\n",
    "    url=\"https://2110ezcuk0.execute-api.ap-south-1.amazonaws.com/dev/execute\",\n",
    "    json={\n",
    "        \"setupData\": setupData,\n",
    "        \"queryCollection\": \"inventory\",\n",
    "        \"query\": {\n",
    "            \n",
    "        }\n",
    "    }\n",
    ")\n",
    "response.json()['queryResult']"
   ]
  },
  {
   "cell_type": "code",
   "execution_count": 12,
   "id": "satellite-question",
   "metadata": {},
   "outputs": [
    {
     "data": {
      "text/plain": [
       "{'data': [{'item': 'journal',\n",
       "   'qty': 25,\n",
       "   'size': {'h': 14, 'w': 21, 'uom': 'cm'},\n",
       "   'status': 'A',\n",
       "   '_id': '980699c5e33e42e585b82e64a7bc33ec'}]}"
      ]
     },
     "execution_count": 12,
     "metadata": {},
     "output_type": "execute_result"
    }
   ],
   "source": [
    "response = requests.post(\n",
    "    url=\"https://2110ezcuk0.execute-api.ap-south-1.amazonaws.com/dev/execute\",\n",
    "    json={\n",
    "        \"setupData\": setupData,\n",
    "        \"queryCollection\": \"inventory\",\n",
    "        \"query\": { \"size\": { \"h\": 14, \"w\": 21, \"uom\": 'cm' } }\n",
    "    }\n",
    ")\n",
    "response.json()['queryResult']"
   ]
  },
  {
   "cell_type": "code",
   "execution_count": 13,
   "id": "british-leave",
   "metadata": {},
   "outputs": [
    {
     "data": {
      "text/plain": [
       "{'data': []}"
      ]
     },
     "execution_count": 13,
     "metadata": {},
     "output_type": "execute_result"
    }
   ],
   "source": [
    "response = requests.post(\n",
    "    url=\"https://2110ezcuk0.execute-api.ap-south-1.amazonaws.com/dev/execute\",\n",
    "    json={\n",
    "        \"setupData\": setupData,\n",
    "        \"queryCollection\": \"inventory\",\n",
    "        \"query\": { \"size\": { \"w\": 21, \"h\": 14, \"uom\": 'cm' } }\n",
    "    }\n",
    ")\n",
    "response.json()['queryResult']"
   ]
  },
  {
   "cell_type": "code",
   "execution_count": 15,
   "id": "mounted-trauma",
   "metadata": {},
   "outputs": [
    {
     "data": {
      "text/plain": [
       "{'data': [{'item': 'notebook',\n",
       "   'qty': 50,\n",
       "   'size': {'h': 8.5, 'w': 11, 'uom': 'in'},\n",
       "   'status': 'A',\n",
       "   '_id': '1170ea69d11645aca056ed013f52c872'},\n",
       "  {'item': 'paper',\n",
       "   'qty': 100,\n",
       "   'size': {'h': 8.5, 'w': 11, 'uom': 'in'},\n",
       "   'status': 'D',\n",
       "   '_id': '280384c262d645f48257938ef652dfe2'}]}"
      ]
     },
     "execution_count": 15,
     "metadata": {},
     "output_type": "execute_result"
    }
   ],
   "source": [
    "response = requests.post(\n",
    "    url=\"https://2110ezcuk0.execute-api.ap-south-1.amazonaws.com/dev/execute\",\n",
    "    json={\n",
    "        \"setupData\": setupData,\n",
    "        \"queryCollection\": \"inventory\",\n",
    "        \"query\": { \"size.uom\": \"in\"}\n",
    "    }\n",
    ")\n",
    "response.json()['queryResult']"
   ]
  },
  {
   "cell_type": "code",
   "execution_count": 16,
   "id": "aging-interface",
   "metadata": {},
   "outputs": [
    {
     "data": {
      "text/plain": [
       "{'data': [{'item': 'journal',\n",
       "   'qty': 25,\n",
       "   'size': {'h': 14, 'w': 21, 'uom': 'cm'},\n",
       "   'status': 'A',\n",
       "   '_id': 'd42f47c0e2ec4d689d4393020e06c7df'},\n",
       "  {'item': 'notebook',\n",
       "   'qty': 50,\n",
       "   'size': {'h': 8.5, 'w': 11, 'uom': 'in'},\n",
       "   'status': 'A',\n",
       "   '_id': '508c5a578e5c4af48179954c9ab676ee'},\n",
       "  {'item': 'paper',\n",
       "   'qty': 100,\n",
       "   'size': {'h': 8.5, 'w': 11, 'uom': 'in'},\n",
       "   'status': 'D',\n",
       "   '_id': '422238f8a3b347a28daf2cdb522bda8f'},\n",
       "  {'item': 'postcard',\n",
       "   'qty': 45,\n",
       "   'size': {'h': 10, 'w': 15.25, 'uom': 'cm'},\n",
       "   'status': 'A',\n",
       "   '_id': '5b911f63c37448ea99b95ea3d01c2d70'}]}"
      ]
     },
     "execution_count": 16,
     "metadata": {},
     "output_type": "execute_result"
    }
   ],
   "source": [
    "response = requests.post(\n",
    "    url=\"https://2110ezcuk0.execute-api.ap-south-1.amazonaws.com/dev/execute\",\n",
    "    json={\n",
    "        \"setupData\": setupData,\n",
    "        \"queryCollection\": \"inventory\",\n",
    "        \"query\": { \"size.h\": {\"$lt\": 15}}\n",
    "    }\n",
    ")\n",
    "response.json()['queryResult']"
   ]
  },
  {
   "cell_type": "code",
   "execution_count": 17,
   "id": "thirty-prince",
   "metadata": {},
   "outputs": [
    {
     "data": {
      "text/plain": [
       "{'data': [{'item': 'paper',\n",
       "   'qty': 100,\n",
       "   'size': {'h': 8.5, 'w': 11, 'uom': 'in'},\n",
       "   'status': 'D',\n",
       "   '_id': 'e012905370454a49b59fab46a71afc9f'}]}"
      ]
     },
     "execution_count": 17,
     "metadata": {},
     "output_type": "execute_result"
    }
   ],
   "source": [
    "response = requests.post(\n",
    "    url=\"https://2110ezcuk0.execute-api.ap-south-1.amazonaws.com/dev/execute\",\n",
    "    json={\n",
    "        \"setupData\": setupData,\n",
    "        \"queryCollection\": \"inventory\",\n",
    "        \"query\": { \n",
    "            'size.h': { \"$lt\": 15 },\n",
    "            'size.uom': 'in',\n",
    "            \"status\": 'D'\n",
    "        }\n",
    "    }\n",
    ")\n",
    "response.json()['queryResult']"
   ]
  },
  {
   "cell_type": "code",
   "execution_count": null,
   "id": "declared-anime",
   "metadata": {},
   "outputs": [],
   "source": []
  }
 ],
 "metadata": {
  "kernelspec": {
   "display_name": "Python 3",
   "language": "python",
   "name": "python3"
  },
  "language_info": {
   "codemirror_mode": {
    "name": "ipython",
    "version": 3
   },
   "file_extension": ".py",
   "mimetype": "text/x-python",
   "name": "python",
   "nbconvert_exporter": "python",
   "pygments_lexer": "ipython3",
   "version": "3.8.2"
  }
 },
 "nbformat": 4,
 "nbformat_minor": 5
}
