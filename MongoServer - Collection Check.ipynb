{
 "cells": [
  {
   "cell_type": "code",
   "execution_count": 37,
   "id": "flush-absence",
   "metadata": {},
   "outputs": [],
   "source": [
    "import requests\n",
    "import json"
   ]
  },
  {
   "cell_type": "code",
   "execution_count": 39,
   "id": "seven-statement",
   "metadata": {},
   "outputs": [],
   "source": [
    "setupData = {\n",
    "            \"animals\": [\n",
    "                {\n",
    "                    \"name\": \"snoopy\",\n",
    "                    \"breed\": \"pug\"\n",
    "                },\n",
    "                {\n",
    "                    \"name\": \"robin\",\n",
    "                    \"breed\": \"pug\"\n",
    "                }\n",
    "            ],\n",
    "            \"inventory\": [\n",
    "              {\n",
    "                \"item\": 'journal',\n",
    "                \"qty\": 25,\n",
    "                \"size\": { \"h\": 14, \"w\": 21, \"uom\": 'cm' },\n",
    "                \"status\": 'A'\n",
    "              },\n",
    "              {\n",
    "                \"item\": 'notebook',\n",
    "                \"qty\": 50,\n",
    "                \"size\": { \"h\": 8.5, \"w\": 11, \"uom\": 'in' },\n",
    "                \"status\": 'A'\n",
    "              },\n",
    "              {\n",
    "                \"item\": 'paper',\n",
    "                \"qty\": 100,\n",
    "                \"size\": { \"h\": 8.5, \"w\": 11, \"uom\": 'in' },\n",
    "                \"status\": 'D'\n",
    "              },\n",
    "              {\n",
    "                \"item\": 'planner',\n",
    "                \"qty\": 75,\n",
    "                \"size\": { \"h\": 22.85, \"w\": 30, \"uom\": 'cm' },\n",
    "                \"status\": 'D'\n",
    "              },\n",
    "              {\n",
    "                \"item\": 'postcard',\n",
    "                \"qty\": 45,\n",
    "                \"size\": { \"h\": 10, \"w\": 15.25, \"uom\": 'cm' },\n",
    "                \"status\": 'A'\n",
    "              }\n",
    "            ]\n",
    "}"
   ]
  },
  {
   "cell_type": "code",
   "execution_count": 40,
   "id": "reliable-economy",
   "metadata": {},
   "outputs": [
    {
     "data": {
      "text/plain": [
       "{'data': [{'item': 'journal',\n",
       "   'qty': 25,\n",
       "   'size': {'h': 14, 'w': 21, 'uom': 'cm'},\n",
       "   'status': 'A',\n",
       "   '_id': '0e124c22e2ab4d73b4ba99415e701b98'},\n",
       "  {'item': 'notebook',\n",
       "   'qty': 50,\n",
       "   'size': {'h': 8.5, 'w': 11, 'uom': 'in'},\n",
       "   'status': 'A',\n",
       "   '_id': 'c34ecd5cf57c4b46b31f441ad7598405'},\n",
       "  {'item': 'paper',\n",
       "   'qty': 100,\n",
       "   'size': {'h': 8.5, 'w': 11, 'uom': 'in'},\n",
       "   'status': 'D',\n",
       "   '_id': '0e07701442cd4de294edd553f92e882c'},\n",
       "  {'item': 'planner',\n",
       "   'qty': 75,\n",
       "   'size': {'h': 22.85, 'w': 30, 'uom': 'cm'},\n",
       "   'status': 'D',\n",
       "   '_id': '43810ed205b440e1a0885f4c2737bdd8'},\n",
       "  {'item': 'postcard',\n",
       "   'qty': 45,\n",
       "   'size': {'h': 10, 'w': 15.25, 'uom': 'cm'},\n",
       "   'status': 'A',\n",
       "   '_id': 'a27e0bd83894401db38d208ee3f8e24e'}]}"
      ]
     },
     "execution_count": 40,
     "metadata": {},
     "output_type": "execute_result"
    }
   ],
   "source": [
    "response = requests.post(\n",
    "    url=\"https://2110ezcuk0.execute-api.ap-south-1.amazonaws.com/dev/execute\",\n",
    "    json={\n",
    "        \"setupData\": setupData,\n",
    "        \"queryCollection\": \"inventory\",\n",
    "        \"query\": {\n",
    "            \n",
    "        }\n",
    "    }\n",
    ")\n",
    "response.json()['queryResult']"
   ]
  },
  {
   "cell_type": "code",
   "execution_count": 42,
   "id": "satellite-question",
   "metadata": {},
   "outputs": [
    {
     "data": {
      "text/plain": [
       "{'data': [{'item': 'paper',\n",
       "   'qty': 100,\n",
       "   'size': {'h': 8.5, 'w': 11, 'uom': 'in'},\n",
       "   'status': 'D',\n",
       "   '_id': '486539ae19324b239d1c714d125e5ba9'},\n",
       "  {'item': 'planner',\n",
       "   'qty': 75,\n",
       "   'size': {'h': 22.85, 'w': 30, 'uom': 'cm'},\n",
       "   'status': 'D',\n",
       "   '_id': 'df1bba88bc8247c79640faa19eba5628'}]}"
      ]
     },
     "execution_count": 42,
     "metadata": {},
     "output_type": "execute_result"
    }
   ],
   "source": [
    "response = requests.post(\n",
    "    url=\"https://2110ezcuk0.execute-api.ap-south-1.amazonaws.com/dev/execute\",\n",
    "    json={\n",
    "        \"setupData\": setupData,\n",
    "        \"queryCollection\": \"inventory\",\n",
    "        \"query\": { \"status\": 'D' }\n",
    "    }\n",
    ")\n",
    "response.json()['queryResult']"
   ]
  },
  {
   "cell_type": "code",
   "execution_count": 43,
   "id": "british-leave",
   "metadata": {},
   "outputs": [
    {
     "data": {
      "text/plain": [
       "{'data': [{'item': 'journal',\n",
       "   'qty': 25,\n",
       "   'size': {'h': 14, 'w': 21, 'uom': 'cm'},\n",
       "   'status': 'A',\n",
       "   '_id': '5807ce4ded6a41d584cde04e28904edf'},\n",
       "  {'item': 'notebook',\n",
       "   'qty': 50,\n",
       "   'size': {'h': 8.5, 'w': 11, 'uom': 'in'},\n",
       "   'status': 'A',\n",
       "   '_id': '3b7d97f6935748768a3da5360599bb87'},\n",
       "  {'item': 'paper',\n",
       "   'qty': 100,\n",
       "   'size': {'h': 8.5, 'w': 11, 'uom': 'in'},\n",
       "   'status': 'D',\n",
       "   '_id': '1b0ab2f4c9584843b1f4a5630c797fde'},\n",
       "  {'item': 'planner',\n",
       "   'qty': 75,\n",
       "   'size': {'h': 22.85, 'w': 30, 'uom': 'cm'},\n",
       "   'status': 'D',\n",
       "   '_id': '47dc5cf6756c4d169fee043979128c16'},\n",
       "  {'item': 'postcard',\n",
       "   'qty': 45,\n",
       "   'size': {'h': 10, 'w': 15.25, 'uom': 'cm'},\n",
       "   'status': 'A',\n",
       "   '_id': '6827a6e05a4c4dcca0a2bdf164485ccd'}]}"
      ]
     },
     "execution_count": 43,
     "metadata": {},
     "output_type": "execute_result"
    }
   ],
   "source": [
    "response = requests.post(\n",
    "    url=\"https://2110ezcuk0.execute-api.ap-south-1.amazonaws.com/dev/execute\",\n",
    "    json={\n",
    "        \"setupData\": setupData,\n",
    "        \"queryCollection\": \"inventory\",\n",
    "        \"query\": {\"status\": {\"$in\": [\"A\", \"D\"]}}\n",
    "    }\n",
    ")\n",
    "response.json()['queryResult']"
   ]
  },
  {
   "cell_type": "code",
   "execution_count": 44,
   "id": "mounted-trauma",
   "metadata": {},
   "outputs": [
    {
     "data": {
      "text/plain": [
       "{'data': [{'item': 'journal',\n",
       "   'qty': 25,\n",
       "   'size': {'h': 14, 'w': 21, 'uom': 'cm'},\n",
       "   'status': 'A',\n",
       "   '_id': '5f4de5a8df1140f9a952c1dd24bf3bb7'}]}"
      ]
     },
     "execution_count": 44,
     "metadata": {},
     "output_type": "execute_result"
    }
   ],
   "source": [
    "response = requests.post(\n",
    "    url=\"https://2110ezcuk0.execute-api.ap-south-1.amazonaws.com/dev/execute\",\n",
    "    json={\n",
    "        \"setupData\": setupData,\n",
    "        \"queryCollection\": \"inventory\",\n",
    "        \"query\": {\"status\": \"A\", \"qty\": {\"$lt\": 30}}\n",
    "    }\n",
    ")\n",
    "response.json()['queryResult']"
   ]
  },
  {
   "cell_type": "code",
   "execution_count": 45,
   "id": "processed-pencil",
   "metadata": {},
   "outputs": [
    {
     "data": {
      "text/plain": [
       "{'data': [{'item': 'journal',\n",
       "   'qty': 25,\n",
       "   'size': {'h': 14, 'w': 21, 'uom': 'cm'},\n",
       "   'status': 'A',\n",
       "   '_id': '58c2dd804ff6464a8869815be7712cc2'},\n",
       "  {'item': 'notebook',\n",
       "   'qty': 50,\n",
       "   'size': {'h': 8.5, 'w': 11, 'uom': 'in'},\n",
       "   'status': 'A',\n",
       "   '_id': 'dc9462a4a5f84e618450e190d783c6d7'},\n",
       "  {'item': 'postcard',\n",
       "   'qty': 45,\n",
       "   'size': {'h': 10, 'w': 15.25, 'uom': 'cm'},\n",
       "   'status': 'A',\n",
       "   '_id': '188bad1233c94e56b407fcd1dd8d6827'}]}"
      ]
     },
     "execution_count": 45,
     "metadata": {},
     "output_type": "execute_result"
    }
   ],
   "source": [
    "response = requests.post(\n",
    "    url=\"https://2110ezcuk0.execute-api.ap-south-1.amazonaws.com/dev/execute\",\n",
    "    json={\n",
    "        \"setupData\": setupData,\n",
    "        \"queryCollection\": \"inventory\",\n",
    "        \"query\": {\"$or\": [{\"status\": \"A\"}, {\"qty\": {\"$lt\": 30}}]}\n",
    "    }\n",
    ")\n",
    "response.json()['queryResult']"
   ]
  },
  {
   "cell_type": "code",
   "execution_count": 46,
   "id": "stretch-profile",
   "metadata": {},
   "outputs": [
    {
     "data": {
      "text/plain": [
       "{'data': [{'item': 'journal',\n",
       "   'qty': 25,\n",
       "   'size': {'h': 14, 'w': 21, 'uom': 'cm'},\n",
       "   'status': 'A',\n",
       "   '_id': '256cbf3a735b4d97aee2c24ec7932c65'},\n",
       "  {'item': 'postcard',\n",
       "   'qty': 45,\n",
       "   'size': {'h': 10, 'w': 15.25, 'uom': 'cm'},\n",
       "   'status': 'A',\n",
       "   '_id': '80d3794dd7144ef38981ec19e43c009b'}]}"
      ]
     },
     "execution_count": 46,
     "metadata": {},
     "output_type": "execute_result"
    }
   ],
   "source": [
    "response = requests.post(\n",
    "    url=\"https://2110ezcuk0.execute-api.ap-south-1.amazonaws.com/dev/execute\",\n",
    "    json={\n",
    "        \"setupData\": setupData,\n",
    "        \"queryCollection\": \"inventory\",\n",
    "        \"query\": {\n",
    "    \"status\": \"A\",\n",
    "    \"$or\": [{\"qty\": {\"$lt\": 30}}, {\"item\": {\"$regex\": \"^p\"}}]}\n",
    "    }\n",
    ")\n",
    "response.json()['queryResult']"
   ]
  },
  {
   "cell_type": "code",
   "execution_count": null,
   "id": "adjacent-repeat",
   "metadata": {},
   "outputs": [],
   "source": [
    "response = requests.post(\n",
    "    url=\"https://2110ezcuk0.execute-api.ap-south-1.amazonaws.com/dev/execute\",\n",
    "    json={\n",
    "        \"setupData\": setupData,\n",
    "        \"queryCollection\": \"inventory\",\n",
    "        \"query\": {\n",
    "    \"status\": \"A\",\n",
    "    \"$or\": [{\"qty\": {\"$lt\": 30}}, {\"item\": {\"$regex\": \"^p\"}}]}\n",
    "    }\n",
    ")\n",
    "response.json()['queryResult']"
   ]
  }
 ],
 "metadata": {
  "kernelspec": {
   "display_name": "Python 3",
   "language": "python",
   "name": "python3"
  },
  "language_info": {
   "codemirror_mode": {
    "name": "ipython",
    "version": 3
   },
   "file_extension": ".py",
   "mimetype": "text/x-python",
   "name": "python",
   "nbconvert_exporter": "python",
   "pygments_lexer": "ipython3",
   "version": "3.8.2"
  }
 },
 "nbformat": 4,
 "nbformat_minor": 5
}
