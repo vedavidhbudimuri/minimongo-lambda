{
 "cells": [
  {
   "cell_type": "code",
   "execution_count": 1,
   "id": "flush-absence",
   "metadata": {},
   "outputs": [],
   "source": [
    "import requests\n",
    "import json"
   ]
  },
  {
   "cell_type": "code",
   "execution_count": 2,
   "id": "seven-statement",
   "metadata": {},
   "outputs": [],
   "source": [
    "setupData = {\n",
    "            \"animals\": [\n",
    "                {\n",
    "                    \"name\": \"snoopy\",\n",
    "                    \"breed\": \"pug\"\n",
    "                },\n",
    "                {\n",
    "                    \"name\": \"robin\",\n",
    "                    \"breed\": \"pug\"\n",
    "                }\n",
    "            ],\n",
    "            \"inventory\": [\n",
    "    {\"item\": \"journal\",\n",
    "     \"qty\": 25,\n",
    "     \"tags\": [\"blank\", \"red\"],\n",
    "     \"dim_cm\": [14, 21]},\n",
    "    {\"item\": \"notebook\",\n",
    "     \"qty\": 50,\n",
    "     \"tags\": [\"red\", \"blank\"],\n",
    "     \"dim_cm\": [14, 21]},\n",
    "    {\"item\": \"paper\",\n",
    "     \"qty\": 100,\n",
    "     \"tags\": [\"red\", \"blank\", \"plain\"],\n",
    "     \"dim_cm\": [14, 21]},\n",
    "    {\"item\": \"planner\",\n",
    "     \"qty\": 75,\n",
    "     \"tags\": [\"blank\", \"red\"],\n",
    "     \"dim_cm\": [22.85, 30]},\n",
    "    {\"item\": \"postcard\",\n",
    "     \"qty\": 45,\n",
    "     \"tags\": [\"blue\"],\n",
    "     \"dim_cm\": [10, 15.25]}]\n",
    "}"
   ]
  },
  {
   "cell_type": "code",
   "execution_count": 3,
   "id": "reliable-economy",
   "metadata": {},
   "outputs": [
    {
     "data": {
      "text/plain": [
       "{'data': [{'item': 'notebook',\n",
       "   'qty': 50,\n",
       "   'tags': ['red', 'blank'],\n",
       "   'dim_cm': [14, 21],\n",
       "   '_id': '7c19fa928e4b426e853e1bcd5ea0ec9a'}]}"
      ]
     },
     "execution_count": 3,
     "metadata": {},
     "output_type": "execute_result"
    }
   ],
   "source": [
    "response = requests.post(\n",
    "    url=\"https://2110ezcuk0.execute-api.ap-south-1.amazonaws.com/dev/execute\",\n",
    "    json={\n",
    "        \"setupData\": setupData,\n",
    "        \"queryCollection\": \"inventory\",\n",
    "        \"query\": {\"tags\": [\"red\", \"blank\"]}\n",
    "    }\n",
    ")\n",
    "response.json()['queryResult']"
   ]
  },
  {
   "cell_type": "code",
   "execution_count": 4,
   "id": "satellite-question",
   "metadata": {},
   "outputs": [
    {
     "data": {
      "text/plain": [
       "{'data': [{'item': 'journal',\n",
       "   'qty': 25,\n",
       "   'tags': ['blank', 'red'],\n",
       "   'dim_cm': [14, 21],\n",
       "   '_id': 'b8f427d4f5f44ac18f72fc64b1f9ccb3'},\n",
       "  {'item': 'notebook',\n",
       "   'qty': 50,\n",
       "   'tags': ['red', 'blank'],\n",
       "   'dim_cm': [14, 21],\n",
       "   '_id': 'f9837d06289b4331b041c4e361507ae8'},\n",
       "  {'item': 'paper',\n",
       "   'qty': 100,\n",
       "   'tags': ['red', 'blank', 'plain'],\n",
       "   'dim_cm': [14, 21],\n",
       "   '_id': '150099832e824515a507eb39c9147d60'},\n",
       "  {'item': 'planner',\n",
       "   'qty': 75,\n",
       "   'tags': ['blank', 'red'],\n",
       "   'dim_cm': [22.85, 30],\n",
       "   '_id': '77ea5ade87c44b1aba94c0e8f0476aaf'}]}"
      ]
     },
     "execution_count": 4,
     "metadata": {},
     "output_type": "execute_result"
    }
   ],
   "source": [
    "response = requests.post(\n",
    "    url=\"https://2110ezcuk0.execute-api.ap-south-1.amazonaws.com/dev/execute\",\n",
    "    json={\n",
    "        \"setupData\": setupData,\n",
    "        \"queryCollection\": \"inventory\",\n",
    "        \"query\": {\"tags\": {\"$all\": [\"red\", \"blank\"]}}\n",
    "    }\n",
    ")\n",
    "response.json()['queryResult']"
   ]
  },
  {
   "cell_type": "code",
   "execution_count": 5,
   "id": "british-leave",
   "metadata": {},
   "outputs": [
    {
     "data": {
      "text/plain": [
       "{'data': [{'item': 'journal',\n",
       "   'qty': 25,\n",
       "   'tags': ['blank', 'red'],\n",
       "   'dim_cm': [14, 21],\n",
       "   '_id': '0b291d6451e24813ac064c4ec1def529'},\n",
       "  {'item': 'notebook',\n",
       "   'qty': 50,\n",
       "   'tags': ['red', 'blank'],\n",
       "   'dim_cm': [14, 21],\n",
       "   '_id': '30631aeb5a1443eb82ddf042f0f8a7aa'},\n",
       "  {'item': 'paper',\n",
       "   'qty': 100,\n",
       "   'tags': ['red', 'blank', 'plain'],\n",
       "   'dim_cm': [14, 21],\n",
       "   '_id': '0dbe5adcf1774d7b80a923d4fbaa9d0c'},\n",
       "  {'item': 'planner',\n",
       "   'qty': 75,\n",
       "   'tags': ['blank', 'red'],\n",
       "   'dim_cm': [22.85, 30],\n",
       "   '_id': 'bd0895823f484bb3a78670b8ddec3bad'}]}"
      ]
     },
     "execution_count": 5,
     "metadata": {},
     "output_type": "execute_result"
    }
   ],
   "source": [
    "response = requests.post(\n",
    "    url=\"https://2110ezcuk0.execute-api.ap-south-1.amazonaws.com/dev/execute\",\n",
    "    json={\n",
    "        \"setupData\": setupData,\n",
    "        \"queryCollection\": \"inventory\",\n",
    "        \"query\": {\"tags\": \"red\"}\n",
    "    }\n",
    ")\n",
    "response.json()['queryResult']"
   ]
  },
  {
   "cell_type": "code",
   "execution_count": 6,
   "id": "mounted-trauma",
   "metadata": {},
   "outputs": [
    {
     "data": {
      "text/plain": [
       "{'data': [{'item': 'planner',\n",
       "   'qty': 75,\n",
       "   'tags': ['blank', 'red'],\n",
       "   'dim_cm': [22.85, 30],\n",
       "   '_id': '873d49a2ce284da3b56a828d1d3263ea'}]}"
      ]
     },
     "execution_count": 6,
     "metadata": {},
     "output_type": "execute_result"
    }
   ],
   "source": [
    "response = requests.post(\n",
    "    url=\"https://2110ezcuk0.execute-api.ap-south-1.amazonaws.com/dev/execute\",\n",
    "    json={\n",
    "        \"setupData\": setupData,\n",
    "        \"queryCollection\": \"inventory\",\n",
    "        \"query\": {\"dim_cm\": {\"$gt\": 25}}\n",
    "    }\n",
    ")\n",
    "response.json()['queryResult']"
   ]
  },
  {
   "cell_type": "code",
   "execution_count": 16,
   "id": "aging-interface",
   "metadata": {},
   "outputs": [
    {
     "data": {
      "text/plain": [
       "{'data': [{'item': 'journal',\n",
       "   'qty': 25,\n",
       "   'size': {'h': 14, 'w': 21, 'uom': 'cm'},\n",
       "   'status': 'A',\n",
       "   '_id': 'd42f47c0e2ec4d689d4393020e06c7df'},\n",
       "  {'item': 'notebook',\n",
       "   'qty': 50,\n",
       "   'size': {'h': 8.5, 'w': 11, 'uom': 'in'},\n",
       "   'status': 'A',\n",
       "   '_id': '508c5a578e5c4af48179954c9ab676ee'},\n",
       "  {'item': 'paper',\n",
       "   'qty': 100,\n",
       "   'size': {'h': 8.5, 'w': 11, 'uom': 'in'},\n",
       "   'status': 'D',\n",
       "   '_id': '422238f8a3b347a28daf2cdb522bda8f'},\n",
       "  {'item': 'postcard',\n",
       "   'qty': 45,\n",
       "   'size': {'h': 10, 'w': 15.25, 'uom': 'cm'},\n",
       "   'status': 'A',\n",
       "   '_id': '5b911f63c37448ea99b95ea3d01c2d70'}]}"
      ]
     },
     "execution_count": 16,
     "metadata": {},
     "output_type": "execute_result"
    }
   ],
   "source": [
    "response = requests.post(\n",
    "    url=\"https://2110ezcuk0.execute-api.ap-south-1.amazonaws.com/dev/execute\",\n",
    "    json={\n",
    "        \"setupData\": setupData,\n",
    "        \"queryCollection\": \"inventory\",\n",
    "        \"query\": { \"size.h\": {\"$lt\": 15}}\n",
    "    }\n",
    ")\n",
    "response.json()['queryResult']"
   ]
  },
  {
   "cell_type": "code",
   "execution_count": 8,
   "id": "thirty-prince",
   "metadata": {},
   "outputs": [
    {
     "data": {
      "text/plain": [
       "{'data': [{'item': 'journal',\n",
       "   'qty': 25,\n",
       "   'tags': ['blank', 'red'],\n",
       "   'dim_cm': [14, 21],\n",
       "   '_id': '3fe87eb6fff1463cb88043e0d6cf5411'},\n",
       "  {'item': 'notebook',\n",
       "   'qty': 50,\n",
       "   'tags': ['red', 'blank'],\n",
       "   'dim_cm': [14, 21],\n",
       "   '_id': '6edda782af4d452ca12c444dcc0f8687'},\n",
       "  {'item': 'paper',\n",
       "   'qty': 100,\n",
       "   'tags': ['red', 'blank', 'plain'],\n",
       "   'dim_cm': [14, 21],\n",
       "   '_id': '0e5ed4a12619476b96a0fd5fe20bfb35'},\n",
       "  {'item': 'postcard',\n",
       "   'qty': 45,\n",
       "   'tags': ['blue'],\n",
       "   'dim_cm': [10, 15.25],\n",
       "   '_id': '56a310570fa94dc8838add8eb8f15633'}]}"
      ]
     },
     "execution_count": 8,
     "metadata": {},
     "output_type": "execute_result"
    }
   ],
   "source": [
    "response = requests.post(\n",
    "    url=\"https://2110ezcuk0.execute-api.ap-south-1.amazonaws.com/dev/execute\",\n",
    "    json={\n",
    "        \"setupData\": setupData,\n",
    "        \"queryCollection\": \"inventory\",\n",
    "        \"query\": {\"dim_cm\": {\"$gt\": 15, \"$lt\": 20}}\n",
    "    }\n",
    ")\n",
    "response.json()['queryResult']"
   ]
  },
  {
   "cell_type": "code",
   "execution_count": 9,
   "id": "declared-anime",
   "metadata": {},
   "outputs": [
    {
     "data": {
      "text/plain": [
       "{'data': [{'item': 'planner',\n",
       "   'qty': 75,\n",
       "   'tags': ['blank', 'red'],\n",
       "   'dim_cm': [22.85, 30],\n",
       "   '_id': 'e73c761dc9da4d868c66bbe5b6abdfb2'}]}"
      ]
     },
     "execution_count": 9,
     "metadata": {},
     "output_type": "execute_result"
    }
   ],
   "source": [
    "response = requests.post(\n",
    "    url=\"https://2110ezcuk0.execute-api.ap-south-1.amazonaws.com/dev/execute\",\n",
    "    json={\n",
    "        \"setupData\": setupData,\n",
    "        \"queryCollection\": \"inventory\",\n",
    "        \"query\": {\"dim_cm.1\": {\"$gt\": 25}}\n",
    "    }\n",
    ")\n",
    "response.json()['queryResult']"
   ]
  },
  {
   "cell_type": "code",
   "execution_count": 10,
   "id": "anticipated-database",
   "metadata": {},
   "outputs": [
    {
     "data": {
      "text/plain": [
       "{'data': [{'item': 'paper',\n",
       "   'qty': 100,\n",
       "   'tags': ['red', 'blank', 'plain'],\n",
       "   'dim_cm': [14, 21],\n",
       "   '_id': '751f7c7de6c14875a7715202b3802aaf'}]}"
      ]
     },
     "execution_count": 10,
     "metadata": {},
     "output_type": "execute_result"
    }
   ],
   "source": [
    "response = requests.post(\n",
    "    url=\"https://2110ezcuk0.execute-api.ap-south-1.amazonaws.com/dev/execute\",\n",
    "    json={\n",
    "        \"setupData\": setupData,\n",
    "        \"queryCollection\": \"inventory\",\n",
    "        \"query\": {\"tags\": {\"$size\": 3}}\n",
    "    }\n",
    ")\n",
    "response.json()['queryResult']"
   ]
  },
  {
   "cell_type": "code",
   "execution_count": null,
   "id": "confidential-double",
   "metadata": {},
   "outputs": [],
   "source": []
  }
 ],
 "metadata": {
  "kernelspec": {
   "display_name": "Python 3",
   "language": "python",
   "name": "python3"
  },
  "language_info": {
   "codemirror_mode": {
    "name": "ipython",
    "version": 3
   },
   "file_extension": ".py",
   "mimetype": "text/x-python",
   "name": "python",
   "nbconvert_exporter": "python",
   "pygments_lexer": "ipython3",
   "version": "3.8.2"
  }
 },
 "nbformat": 4,
 "nbformat_minor": 5
}
