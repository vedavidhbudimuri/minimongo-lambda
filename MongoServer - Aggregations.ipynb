{
 "cells": [
  {
   "cell_type": "code",
   "execution_count": 1,
   "id": "flush-absence",
   "metadata": {},
   "outputs": [],
   "source": [
    "import requests\n",
    "import json"
   ]
  },
  {
   "cell_type": "code",
   "execution_count": 27,
   "id": "seven-statement",
   "metadata": {},
   "outputs": [],
   "source": [
    "setupData = {\n",
    "            \"animals\": [\n",
    "                {\n",
    "                    \"name\": \"snoopy\",\n",
    "                    \"breed\": \"pug\"\n",
    "                },\n",
    "                {\n",
    "                    \"name\": \"robin\",\n",
    "                    \"breed\": \"pug\"\n",
    "                }\n",
    "            ],\n",
    "            \"inventory\": [\n",
    "  {\n",
    "    \"item\": 'journal',\n",
    "    \"status\": 'A',\n",
    "    \"size\": { \"h\": 14, \"w\": 21, \"uom\": 'cm' },\n",
    "    \"instock\": [{ \"warehouse\": 'A', \"qty\": 5 }]\n",
    "  },\n",
    "  {\n",
    "    \"item\": 'notebook',\n",
    "    \"status\": 'A',\n",
    "    \"size\": { \"h\": 8.5, \"w\": 11, \"uom\": 'in' },\n",
    "    \"instock\": [{ \"warehouse\": 'C', \"qty\": 5 }]\n",
    "  },\n",
    "  {\n",
    "    \"item\": 'paper',\n",
    "    \"status\": 'D',\n",
    "    \"size\": { \"h\": 8.5, \"w\": 11, \"uom\": 'in' },\n",
    "    \"instock\": [{ \"warehouse\": 'A', \"qty\": 60 }]\n",
    "  },\n",
    "  {\n",
    "    \"item\": 'planner',\n",
    "    \"status\": 'D',\n",
    "    \"size\": { \"h\": 22.85, \"w\": 30, \"uom\": 'cm' },\n",
    "    \"instock\": [{ \"warehouse\": 'A', \"qty\": 40 }]\n",
    "  },\n",
    "  {\n",
    "    \"item\": 'postcard',\n",
    "    \"status\": 'A',\n",
    "    \"size\": { \"h\": 10, \"w\": 15.25, \"uom\": 'cm' },\n",
    "    \"instock\": [\n",
    "      { \"warehouse\": 'B', \"qty\": 15 },\n",
    "      { \"warehouse\": 'C', \"qty\": 35 }\n",
    "    ]\n",
    "  },\n",
    "                {\n",
    "                    \"item\": None\n",
    "                }\n",
    "]\n",
    "}"
   ]
  },
  {
   "cell_type": "code",
   "execution_count": null,
   "id": "fossil-order",
   "metadata": {},
   "outputs": [],
   "source": []
  }
 ],
 "metadata": {
  "kernelspec": {
   "display_name": "Python 3",
   "language": "python",
   "name": "python3"
  },
  "language_info": {
   "codemirror_mode": {
    "name": "ipython",
    "version": 3
   },
   "file_extension": ".py",
   "mimetype": "text/x-python",
   "name": "python",
   "nbconvert_exporter": "python",
   "pygments_lexer": "ipython3",
   "version": "3.8.2"
  }
 },
 "nbformat": 4,
 "nbformat_minor": 5
}
