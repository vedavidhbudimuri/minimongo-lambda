{
 "cells": [
  {
   "cell_type": "code",
   "execution_count": 1,
   "id": "flush-absence",
   "metadata": {},
   "outputs": [],
   "source": [
    "import requests\n",
    "import json"
   ]
  },
  {
   "cell_type": "code",
   "execution_count": 2,
   "id": "seven-statement",
   "metadata": {},
   "outputs": [],
   "source": [
    "setupData = {\n",
    "            \"animals\": [\n",
    "                {\n",
    "                    \"name\": \"snoopy\",\n",
    "                    \"breed\": \"pug\"\n",
    "                },\n",
    "                {\n",
    "                    \"name\": \"robin\",\n",
    "                    \"breed\": \"pug\"\n",
    "                }\n",
    "            ],\n",
    "            \"inventory\": \n",
    "[\n",
    "  {\n",
    "    \"item\": 'journal',\n",
    "    \"instock\": [\n",
    "      { \"warehouse\": 'A', \"qty\": 5 },\n",
    "      { \"warehouse\": 'C', \"qty\": 15 }\n",
    "    ]\n",
    "  },\n",
    "  {\n",
    "    \"item\": 'notebook',\n",
    "    \"instock\": [{ \"warehouse\": 'C', \"qty\": 5 }]\n",
    "  },\n",
    "  {\n",
    "    \"item\": 'paper',\n",
    "    \"instock\": [\n",
    "      { \"warehouse\": 'A', \"qty\": 60 },\n",
    "      { \"warehouse\": 'B', \"qty\": 15 }\n",
    "    ]\n",
    "  },\n",
    "  {\n",
    "    \"item\": 'planner',\n",
    "    \"instock\": [\n",
    "      { \"warehouse\": 'A', \"qty\": 40 },\n",
    "      { \"warehouse\": 'B', \"qty\": 5 }\n",
    "    ]\n",
    "  },\n",
    "  {\n",
    "    \"item\": 'postcard',\n",
    "    \"instock\": [\n",
    "      { \"warehouse\": 'B', \"qty\": 15 },\n",
    "      { \"warehouse\": 'C', \"qty\": 35 }\n",
    "    ]\n",
    "  }\n",
    "]\n",
    "}"
   ]
  },
  {
   "cell_type": "code",
   "execution_count": 3,
   "id": "reliable-economy",
   "metadata": {},
   "outputs": [
    {
     "data": {
      "text/plain": [
       "{'data': [{'item': 'journal',\n",
       "   'instock': [{'warehouse': 'A', 'qty': 5}, {'warehouse': 'C', 'qty': 15}],\n",
       "   '_id': 'dd44cd790012404b8fed9e407e2fea96'}]}"
      ]
     },
     "execution_count": 3,
     "metadata": {},
     "output_type": "execute_result"
    }
   ],
   "source": [
    "response = requests.post(\n",
    "    url=\"https://2110ezcuk0.execute-api.ap-south-1.amazonaws.com/dev/execute\",\n",
    "    json={\n",
    "        \"setupData\": setupData,\n",
    "        \"queryCollection\": \"inventory\",\n",
    "        \"query\": {\"instock\": { \"warehouse\": 'A', \"qty\": 5 }}\n",
    "    }\n",
    ")\n",
    "response.json()['queryResult']"
   ]
  },
  {
   "cell_type": "code",
   "execution_count": 4,
   "id": "satellite-question",
   "metadata": {},
   "outputs": [
    {
     "data": {
      "text/plain": [
       "{'data': []}"
      ]
     },
     "execution_count": 4,
     "metadata": {},
     "output_type": "execute_result"
    }
   ],
   "source": [
    "response = requests.post(\n",
    "    url=\"https://2110ezcuk0.execute-api.ap-south-1.amazonaws.com/dev/execute\",\n",
    "    json={\n",
    "        \"setupData\": setupData,\n",
    "        \"queryCollection\": \"inventory\",\n",
    "        \"query\": {\"instock\": { \"qty\": 5, \"warehouse\": 'A' }}\n",
    "    }\n",
    ")\n",
    "response.json()['queryResult']"
   ]
  },
  {
   "cell_type": "code",
   "execution_count": 5,
   "id": "british-leave",
   "metadata": {},
   "outputs": [
    {
     "data": {
      "text/plain": [
       "{'data': [{'item': 'journal',\n",
       "   'instock': [{'warehouse': 'A', 'qty': 5}, {'warehouse': 'C', 'qty': 15}],\n",
       "   '_id': '93f407b64f6d4c36920a7773a8f91673'},\n",
       "  {'item': 'notebook',\n",
       "   'instock': [{'warehouse': 'C', 'qty': 5}],\n",
       "   '_id': 'fd9fc25251a74811afd01eaa34a0c4f1'},\n",
       "  {'item': 'paper',\n",
       "   'instock': [{'warehouse': 'A', 'qty': 60}, {'warehouse': 'B', 'qty': 15}],\n",
       "   '_id': '05114bb9ea3e4be596d9dc4595fb634c'},\n",
       "  {'item': 'planner',\n",
       "   'instock': [{'warehouse': 'A', 'qty': 40}, {'warehouse': 'B', 'qty': 5}],\n",
       "   '_id': '3c970051bcb24bd79ba4106f361aac3b'},\n",
       "  {'item': 'postcard',\n",
       "   'instock': [{'warehouse': 'B', 'qty': 15}, {'warehouse': 'C', 'qty': 35}],\n",
       "   '_id': '1f76c5a9cbc2423ba18cb2f0413f0830'}]}"
      ]
     },
     "execution_count": 5,
     "metadata": {},
     "output_type": "execute_result"
    }
   ],
   "source": [
    "response = requests.post(\n",
    "    url=\"https://2110ezcuk0.execute-api.ap-south-1.amazonaws.com/dev/execute\",\n",
    "    json={\n",
    "        \"setupData\": setupData,\n",
    "        \"queryCollection\": \"inventory\",\n",
    "        \"query\": {'instock.qty': { \"$lte\": 20 }}\n",
    "    }\n",
    ")\n",
    "response.json()['queryResult']"
   ]
  },
  {
   "cell_type": "code",
   "execution_count": 6,
   "id": "mounted-trauma",
   "metadata": {},
   "outputs": [
    {
     "data": {
      "text/plain": [
       "{'data': [{'item': 'journal',\n",
       "   'instock': [{'warehouse': 'A', 'qty': 5}, {'warehouse': 'C', 'qty': 15}],\n",
       "   '_id': '3f03ea2662674a3f966db7c1f40b2851'},\n",
       "  {'item': 'notebook',\n",
       "   'instock': [{'warehouse': 'C', 'qty': 5}],\n",
       "   '_id': '4755c4d4a3c04946b0651e3b9cd32411'},\n",
       "  {'item': 'postcard',\n",
       "   'instock': [{'warehouse': 'B', 'qty': 15}, {'warehouse': 'C', 'qty': 35}],\n",
       "   '_id': '4bb8c9ed77354084bd2c9bbe4a3140da'}]}"
      ]
     },
     "execution_count": 6,
     "metadata": {},
     "output_type": "execute_result"
    }
   ],
   "source": [
    "response = requests.post(\n",
    "    url=\"https://2110ezcuk0.execute-api.ap-south-1.amazonaws.com/dev/execute\",\n",
    "    json={\n",
    "        \"setupData\": setupData,\n",
    "        \"queryCollection\": \"inventory\",\n",
    "        \"query\": {'instock.0.qty': { \"$lte\": 20 }}\n",
    "    }\n",
    ")\n",
    "response.json()['queryResult']"
   ]
  },
  {
   "cell_type": "code",
   "execution_count": 7,
   "id": "aging-interface",
   "metadata": {},
   "outputs": [
    {
     "data": {
      "text/plain": [
       "{'data': [{'item': 'journal',\n",
       "   'instock': [{'warehouse': 'A', 'qty': 5}, {'warehouse': 'C', 'qty': 15}],\n",
       "   '_id': '5d9b23959cfe4feea69545287828033a'}]}"
      ]
     },
     "execution_count": 7,
     "metadata": {},
     "output_type": "execute_result"
    }
   ],
   "source": [
    "response = requests.post(\n",
    "    url=\"https://2110ezcuk0.execute-api.ap-south-1.amazonaws.com/dev/execute\",\n",
    "    json={\n",
    "        \"setupData\": setupData,\n",
    "        \"queryCollection\": \"inventory\",\n",
    "        \"query\": { \"instock\": { \"$elemMatch\": { \"qty\": 5, \"warehouse\": 'A' } }}\n",
    "    }\n",
    ")\n",
    "response.json()['queryResult']"
   ]
  },
  {
   "cell_type": "code",
   "execution_count": 8,
   "id": "thirty-prince",
   "metadata": {},
   "outputs": [
    {
     "data": {
      "text/plain": [
       "{'data': [{'item': 'journal',\n",
       "   'instock': [{'warehouse': 'A', 'qty': 5}, {'warehouse': 'C', 'qty': 15}],\n",
       "   '_id': '8469418b243e41bab5876144d9c30829'},\n",
       "  {'item': 'paper',\n",
       "   'instock': [{'warehouse': 'A', 'qty': 60}, {'warehouse': 'B', 'qty': 15}],\n",
       "   '_id': '95d43162b35849e39ff0f9c89f952a5d'},\n",
       "  {'item': 'postcard',\n",
       "   'instock': [{'warehouse': 'B', 'qty': 15}, {'warehouse': 'C', 'qty': 35}],\n",
       "   '_id': '5d30febd4b2b4bbcb398ed487042edd8'}]}"
      ]
     },
     "execution_count": 8,
     "metadata": {},
     "output_type": "execute_result"
    }
   ],
   "source": [
    "response = requests.post(\n",
    "    url=\"https://2110ezcuk0.execute-api.ap-south-1.amazonaws.com/dev/execute\",\n",
    "    json={\n",
    "        \"setupData\": setupData,\n",
    "        \"queryCollection\": \"inventory\",\n",
    "        \"query\": {  \"instock\": { \"$elemMatch\": { \"qty\": { \"$gt\": 10, \"$lte\": 20 } } }}\n",
    "    }\n",
    ")\n",
    "response.json()['queryResult']"
   ]
  },
  {
   "cell_type": "code",
   "execution_count": 9,
   "id": "confidential-double",
   "metadata": {},
   "outputs": [
    {
     "data": {
      "text/plain": [
       "{'data': [{'item': 'journal',\n",
       "   'instock': [{'warehouse': 'A', 'qty': 5}, {'warehouse': 'C', 'qty': 15}],\n",
       "   '_id': 'e36beb4f4cc241e4a52caf14a7c60adc'},\n",
       "  {'item': 'paper',\n",
       "   'instock': [{'warehouse': 'A', 'qty': 60}, {'warehouse': 'B', 'qty': 15}],\n",
       "   '_id': '0e0fc4e8a95046e2a6a2efb9ad647b15'},\n",
       "  {'item': 'postcard',\n",
       "   'instock': [{'warehouse': 'B', 'qty': 15}, {'warehouse': 'C', 'qty': 35}],\n",
       "   '_id': 'a62e33f2948c4e85becf8250cdf764cf'}]}"
      ]
     },
     "execution_count": 9,
     "metadata": {},
     "output_type": "execute_result"
    }
   ],
   "source": [
    "response = requests.post(\n",
    "    url=\"https://2110ezcuk0.execute-api.ap-south-1.amazonaws.com/dev/execute\",\n",
    "    json={\n",
    "        \"setupData\": setupData,\n",
    "        \"queryCollection\": \"inventory\",\n",
    "        \"query\": {   'instock.qty': { \"$gt\": 10, \"$lte\": 20 }}\n",
    "    }\n",
    ")\n",
    "response.json()['queryResult']"
   ]
  },
  {
   "cell_type": "code",
   "execution_count": 10,
   "id": "ordered-joining",
   "metadata": {},
   "outputs": [
    {
     "data": {
      "text/plain": [
       "{'data': [{'item': 'journal',\n",
       "   'instock': [{'warehouse': 'A', 'qty': 5}, {'warehouse': 'C', 'qty': 15}],\n",
       "   '_id': '50333dc220ae4f2cb93c227e1106da76'},\n",
       "  {'item': 'planner',\n",
       "   'instock': [{'warehouse': 'A', 'qty': 40}, {'warehouse': 'B', 'qty': 5}],\n",
       "   '_id': 'a99ac86a53da4290b1167bf5a6d5379b'}]}"
      ]
     },
     "execution_count": 10,
     "metadata": {},
     "output_type": "execute_result"
    }
   ],
   "source": [
    "response = requests.post(\n",
    "    url=\"https://2110ezcuk0.execute-api.ap-south-1.amazonaws.com/dev/execute\",\n",
    "    json={\n",
    "        \"setupData\": setupData,\n",
    "        \"queryCollection\": \"inventory\",\n",
    "        \"query\": {\n",
    "            'instock.qty': 5,\n",
    "            'instock.warehouse': 'A'\n",
    "        }\n",
    "    }\n",
    ")\n",
    "response.json()['queryResult']"
   ]
  },
  {
   "cell_type": "code",
   "execution_count": null,
   "id": "noble-private",
   "metadata": {},
   "outputs": [],
   "source": []
  }
 ],
 "metadata": {
  "kernelspec": {
   "display_name": "Python 3",
   "language": "python",
   "name": "python3"
  },
  "language_info": {
   "codemirror_mode": {
    "name": "ipython",
    "version": 3
   },
   "file_extension": ".py",
   "mimetype": "text/x-python",
   "name": "python",
   "nbconvert_exporter": "python",
   "pygments_lexer": "ipython3",
   "version": "3.8.2"
  }
 },
 "nbformat": 4,
 "nbformat_minor": 5
}
