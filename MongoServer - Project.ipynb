{
 "cells": [
  {
   "cell_type": "code",
   "execution_count": 1,
   "id": "flush-absence",
   "metadata": {},
   "outputs": [],
   "source": [
    "import requests\n",
    "import json"
   ]
  },
  {
   "cell_type": "code",
   "execution_count": 27,
   "id": "seven-statement",
   "metadata": {},
   "outputs": [],
   "source": [
    "setupData = {\n",
    "            \"animals\": [\n",
    "                {\n",
    "                    \"name\": \"snoopy\",\n",
    "                    \"breed\": \"pug\"\n",
    "                },\n",
    "                {\n",
    "                    \"name\": \"robin\",\n",
    "                    \"breed\": \"pug\"\n",
    "                }\n",
    "            ],\n",
    "            \"inventory\": [\n",
    "  {\n",
    "    \"item\": 'journal',\n",
    "    \"status\": 'A',\n",
    "    \"size\": { \"h\": 14, \"w\": 21, \"uom\": 'cm' },\n",
    "    \"instock\": [{ \"warehouse\": 'A', \"qty\": 5 }]\n",
    "  },\n",
    "  {\n",
    "    \"item\": 'notebook',\n",
    "    \"status\": 'A',\n",
    "    \"size\": { \"h\": 8.5, \"w\": 11, \"uom\": 'in' },\n",
    "    \"instock\": [{ \"warehouse\": 'C', \"qty\": 5 }]\n",
    "  },\n",
    "  {\n",
    "    \"item\": 'paper',\n",
    "    \"status\": 'D',\n",
    "    \"size\": { \"h\": 8.5, \"w\": 11, \"uom\": 'in' },\n",
    "    \"instock\": [{ \"warehouse\": 'A', \"qty\": 60 }]\n",
    "  },\n",
    "  {\n",
    "    \"item\": 'planner',\n",
    "    \"status\": 'D',\n",
    "    \"size\": { \"h\": 22.85, \"w\": 30, \"uom\": 'cm' },\n",
    "    \"instock\": [{ \"warehouse\": 'A', \"qty\": 40 }]\n",
    "  },\n",
    "  {\n",
    "    \"item\": 'postcard',\n",
    "    \"status\": 'A',\n",
    "    \"size\": { \"h\": 10, \"w\": 15.25, \"uom\": 'cm' },\n",
    "    \"instock\": [\n",
    "      { \"warehouse\": 'B', \"qty\": 15 },\n",
    "      { \"warehouse\": 'C', \"qty\": 35 }\n",
    "    ]\n",
    "  },\n",
    "                {\n",
    "                    \"item\": None\n",
    "                }\n",
    "]\n",
    "}"
   ]
  },
  {
   "cell_type": "code",
   "execution_count": 29,
   "id": "reliable-economy",
   "metadata": {},
   "outputs": [
    {
     "data": {
      "text/plain": [
       "{'data': [{'item': 'journal',\n",
       "   'size': {'h': 14, 'w': 21},\n",
       "   'instock': [{'warehouse': 'A', 'qty': 5}],\n",
       "   '_id': '93550f3298bc4f02b40f5f4e4c4ecdcb'},\n",
       "  {'item': 'notebook',\n",
       "   'size': {'h': 8.5, 'w': 11},\n",
       "   'instock': [{'warehouse': 'C', 'qty': 5}],\n",
       "   '_id': '63ac2c621e9b4026a314573f0cae907a'},\n",
       "  {'item': 'paper',\n",
       "   'size': {'h': 8.5, 'w': 11},\n",
       "   'instock': [{'warehouse': 'A', 'qty': 60}],\n",
       "   '_id': '3b7fe9d3151c43f4b3d7cd9dfe4264f4'},\n",
       "  {'item': 'planner',\n",
       "   'size': {'h': 22.85, 'w': 30},\n",
       "   'instock': [{'warehouse': 'A', 'qty': 40}],\n",
       "   '_id': 'fa33179a9a234867a678e8bc799a5fc4'},\n",
       "  {'item': 'postcard',\n",
       "   'size': {'h': 10, 'w': 15.25},\n",
       "   'instock': [{'warehouse': 'B', 'qty': 15}, {'warehouse': 'C', 'qty': 35}],\n",
       "   '_id': '0c92e584bdc14b508d5a4e40075258db'},\n",
       "  {'_id': '2dad869b636d4c949632917e5382d4ed'}]}"
      ]
     },
     "execution_count": 29,
     "metadata": {},
     "output_type": "execute_result"
    }
   ],
   "source": [
    "response = requests.post(\n",
    "    url=\"https://2110ezcuk0.execute-api.ap-south-1.amazonaws.com/dev/execute\",\n",
    "    json={\n",
    "        \"setupData\": setupData,\n",
    "        \"queryCollection\": \"inventory\",\n",
    "        \"query\": {},\n",
    "        \"projectionData\": {\"item\": 1, 'size.h': 1, 'size.w': 1, \"instock\": { \"$slice\": [1, 2] }}\n",
    "    }\n",
    ")\n",
    "response.json()['queryResult']"
   ]
  },
  {
   "cell_type": "code",
   "execution_count": 30,
   "id": "noble-private",
   "metadata": {},
   "outputs": [
    {
     "data": {
      "text/plain": [
       "{'data': [{'_id': '0142c35fa5b24e49bc3561ef27508a55'}]}"
      ]
     },
     "execution_count": 30,
     "metadata": {},
     "output_type": "execute_result"
    }
   ],
   "source": [
    "response = requests.post(\n",
    "    url=\"https://2110ezcuk0.execute-api.ap-south-1.amazonaws.com/dev/execute\",\n",
    "    json={\n",
    "        \"setupData\": setupData,\n",
    "        \"queryCollection\": \"inventory\",\n",
    "        \"query\": {\"item\": None},\n",
    "        \"projectionData\": {\"item\": 1, 'size.h': 1, 'size.w': 1, \"instock\": { \"$slice\": [1, 2] }}\n",
    "    }\n",
    ")\n",
    "response.json()['queryResult']"
   ]
  },
  {
   "cell_type": "code",
   "execution_count": 32,
   "id": "enormous-transcription",
   "metadata": {},
   "outputs": [
    {
     "data": {
      "text/plain": [
       "{'data': [{'item': None, '_id': '9184fe073529482ab070791d12e1a3a9'}]}"
      ]
     },
     "execution_count": 32,
     "metadata": {},
     "output_type": "execute_result"
    }
   ],
   "source": [
    "response = requests.post(\n",
    "    url=\"https://2110ezcuk0.execute-api.ap-south-1.amazonaws.com/dev/execute\",\n",
    "    json={\n",
    "        \"setupData\": setupData,\n",
    "        \"queryCollection\": \"inventory\",\n",
    "        \"query\": {\"instock\": {\"$exists\": False}},\n",
    "        \"projectionData\": {}\n",
    "    }\n",
    ")\n",
    "response.json()['queryResult']"
   ]
  },
  {
   "cell_type": "code",
   "execution_count": null,
   "id": "fossil-order",
   "metadata": {},
   "outputs": [],
   "source": []
  }
 ],
 "metadata": {
  "kernelspec": {
   "display_name": "Python 3",
   "language": "python",
   "name": "python3"
  },
  "language_info": {
   "codemirror_mode": {
    "name": "ipython",
    "version": 3
   },
   "file_extension": ".py",
   "mimetype": "text/x-python",
   "name": "python",
   "nbconvert_exporter": "python",
   "pygments_lexer": "ipython3",
   "version": "3.8.2"
  }
 },
 "nbformat": 4,
 "nbformat_minor": 5
}
